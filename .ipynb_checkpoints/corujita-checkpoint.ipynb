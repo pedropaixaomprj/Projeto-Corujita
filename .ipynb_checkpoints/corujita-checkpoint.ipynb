{
 "cells": [
  {
   "cell_type": "markdown",
   "id": "42659ddc-3d27-408a-afca-7869257441c1",
   "metadata": {},
   "source": [
    "# Projeto Corujita"
   ]
  },
  {
   "cell_type": "markdown",
   "id": "97883bd8-3c6d-4ad4-a380-c64821f50a92",
   "metadata": {},
   "source": [
    "## Importando pacotes necessários"
   ]
  },
  {
   "cell_type": "code",
   "execution_count": 88,
   "id": "e5aa2bab-8e54-4ac2-bf48-3c680cc43f73",
   "metadata": {},
   "outputs": [],
   "source": [
    "import os\n",
    "from dotenv import load_dotenv, dotenv_values, find_dotenv\n",
    "from pathlib import Path\n",
    "import requests"
   ]
  },
  {
   "cell_type": "markdown",
   "id": "8384c801-5999-468e-bfbc-cb57249a60c1",
   "metadata": {},
   "source": [
    "## Incluindo variáveis no environment"
   ]
  },
  {
   "cell_type": "code",
   "execution_count": 32,
   "id": "81f7b28d-857b-47fa-946d-3d82b6e8416a",
   "metadata": {},
   "outputs": [
    {
     "name": "stdout",
     "output_type": "stream",
     "text": [
      "API keys loaded.\n"
     ]
    }
   ],
   "source": [
    "# config.env é um arquivo local onde defini minhas chaves\n",
    "try:\n",
    "    load_dotenv(Path(\"config.env\"))\n",
    "    DEEPSEEK_API_KEY = os.environ.get(\"DEEPSEEK_API_KEY\")\n",
    "    print(\"API keys loaded.\")\n",
    "    \n",
    "except:\n",
    "    print('Error loading API keys.')\n",
    "\n"
   ]
  },
  {
   "cell_type": "markdown",
   "id": "2f06122f-0d5e-4b6e-8094-db674c18f311",
   "metadata": {},
   "source": [
    "## Testando chamada para LLM (DeepSeek)"
   ]
  },
  {
   "cell_type": "raw",
   "id": "35febb92-7649-43b5-8a38-43f7f6c74025",
   "metadata": {},
   "source": [
    "from langchain_deepseek import ChatDeepSeek\n",
    "\n",
    "llm = ChatDeepSeek(\n",
    "    model=\"deepseek-chat\",\n",
    "    temperature=0,\n",
    "    max_tokens=None,\n",
    "    timeout=None,\n",
    "    max_retries=2\n",
    ")\n",
    "\n",
    "messages = [\n",
    "    (\n",
    "        \"system\",\n",
    "        \"Você é um assistente que traduz Inglês para Português. Traduza a seguinte frase do usuário.\",\n",
    "    ),\n",
    "    (\"human\", \"I love programming.\"),\n",
    "]\n",
    "\n",
    "ai_msg = llm.invoke(messages)\n",
    "ai_msg.content"
   ]
  },
  {
   "cell_type": "markdown",
   "id": "d5d94094-7f9f-486f-86ff-512fad33c0d2",
   "metadata": {},
   "source": [
    "## Carregando documentos de referência via DocumentLoader"
   ]
  },
  {
   "cell_type": "code",
   "execution_count": 120,
   "id": "b4ef61dd-7264-4e94-bdce-c5bf2acaaa3b",
   "metadata": {},
   "outputs": [],
   "source": [
    "import pandas as pd\n",
    "from langchain_community.vectorstores import FAISS\n",
    "from langchain_huggingface import HuggingFaceEmbeddings\n",
    "from langchain.schema import Document\n",
    "\n",
    "# Load CSV using pandas\n",
    "file_path=\"./dataset_corujita_expansao.csv\"\n",
    "df = pd.read_csv(file_path)\n",
    "\n",
    "# Debug: Check if \"Pergunta\" column exists\n",
    "if \"Pergunta\" not in df.columns:\n",
    "    raise ValueError(\"The column 'Pergunta' does not exist in the CSV file. Check column names!\")\n",
    "\n",
    "# Convert DataFrame to LangChain Documents (Embed only 'Pergunta', store other columns as metadata)\n",
    "processed_documents = [\n",
    "    Document(\n",
    "        page_content=row[\"Pergunta\"],  # Embed only \"Pergunta\"\n",
    "        metadata=row.to_dict()  # Store full row as metadata\n",
    "    )\n",
    "    for _, row in df.iterrows() if pd.notna(row[\"Pergunta\"])  # Avoid NaN values\n",
    "]\n",
    "\n",
    "# Debug: Ensure documents are created\n",
    "if not processed_documents:\n",
    "    raise ValueError(\"No valid 'Pergunta' entries found. Ensure the column is populated.\")\n",
    "\n",
    "# Load Hugging Face Embeddings model\n",
    "embedding_model = HuggingFaceEmbeddings(model_name=\"sentence-transformers/paraphrase-multilingual-MiniLM-L12-v2\")\n",
    "\n",
    "# Create FAISS vector store using only \"Pergunta\"\n",
    "vectorstore = FAISS.from_documents(documents=processed_documents,\n",
    "                                   embedding=embedding_model,\n",
    "                                   normalize_L2=True)\n",
    "\n",
    "# Convert FAISS into a retriever\n",
    "retriever = vectorstore.as_retriever()\n"
   ]
  },
  {
   "cell_type": "markdown",
   "id": "9f506c5d-8cfa-4003-9c80-eac1a4f40972",
   "metadata": {},
   "source": [
    "# Query expansion"
   ]
  },
  {
   "cell_type": "code",
   "execution_count": 149,
   "id": "0d782124-85f9-44b0-920c-1d70f2d5fb6a",
   "metadata": {},
   "outputs": [],
   "source": [
    "# Load API key from environment file\n",
    "load_dotenv(Path(\"config.env\"))\n",
    "DEEPSEEK_API_KEY = os.environ.get(\"DEEPSEEK_API_KEY\")\n",
    "\n",
    "if not DEEPSEEK_API_KEY:\n",
    "    raise ValueError(\"DEEPSEEK_API_KEY not found. Please set it in your environment variables.\")\n",
    "\n",
    "def call_deepseek_api(api_key, input_text):\n",
    "    url = \"https://api.deepseek.com/v1/chat/completions\"  # Adjust if different\n",
    "    headers = {\n",
    "        \"Content-Type\": \"application/json\",\n",
    "        \"Authorization\": f\"Bearer {api_key}\"\n",
    "    }\n",
    "    data = {\n",
    "        \"model\": \"deepseek-chat\",\n",
    "        \"messages\": [{\"role\": \"user\", \"content\": input_text}]\n",
    "    }\n",
    "\n",
    "    response = requests.post(url, headers=headers, json=data)\n",
    "    response.raise_for_status()  # Raise error if request failed\n",
    "\n",
    "    data = response.json()\n",
    "    \n",
    "    # Extracting only the response content\n",
    "    return data[\"choices\"][0][\"message\"][\"content\"] if \"choices\" in data else None\n",
    "\n",
    "def generate_expanded_query(original_query):\n",
    "    prompt = f\"\"\"\n",
    "    Dado o contexto de um assistente virtual para o sistema Nova SAT do Ministério Público do Estado do Rio de Janeiro (MPRJ), \n",
    "    Expanda a seguinte pergunta do usuário gerando 10 sinônimos, reformulações e variações que poderiam ter sido feitas por outros usuários no passado. \n",
    "    \n",
    "    O objetivo é melhorar a recuperação da resposta correta, garantindo que perguntas semelhantes sejam identificadas como equivalentes. \n",
    "    Priorize termos técnicos e expressões usadas no contexto jurídico e administrativo do MPRJ.\n",
    "    \n",
    "    Pergunta original: \"{original_query}\"\n",
    "    \n",
    "    Exemplo de query: \"Estou com problema no login\".\n",
    "    Exemplo de resposta (resumido): \"Estou com problema no login. Não consigo logar na página. Não consigo entrar na nova SAT. (...) O que fazer quando o login está bugado?.\n",
    "\n",
    "    Responda apenas com as expressões-sinônimos, separadas por ponto. Não acrescente nada mais além disso. Não acrescente números indicadores da lista.\n",
    "    \"\"\"\n",
    "    \n",
    "    return prompt\n",
    "\n",
    "def expand_query_with_llm(api_key, original_query):\n",
    "    prompt = generate_expanded_query(original_query)\n",
    "    response = call_deepseek_api(api_key, prompt)\n",
    "    # Assuming the response is a string of comma-separated terms\n",
    "    expanded_terms = response.split(',')\n",
    "    return [term.strip() for term in expanded_terms]\n",
    "\n",
    "def retrieve_documents(api_key, original_query, retriever, expand=False):\n",
    "    if expand:\n",
    "        original_query = expand_query_with_llm(api_key, original_query)\n",
    "        final_query = '. '.join([original_query] + expanded_terms)\n",
    "        print(\"User input (modificado): \", final_query)\n",
    "\n",
    "    else:\n",
    "        final_query = original_query\n",
    "        \n",
    "    relevant_documents = retriever.get_relevant_documents(final_query)\n",
    "    return relevant_documents\n",
    "    "
   ]
  },
  {
   "cell_type": "code",
   "execution_count": 147,
   "id": "a50aed03-7c17-4a6e-8f9b-679b7889d335",
   "metadata": {},
   "outputs": [
    {
     "data": {
      "text/plain": [
       "array(['23 O que significa quando a SAT está \"aguardando aprovação\"?',\n",
       "       'Significa que, apesar de devidamente preenchida pelo servidor do órgão de execução, ainda não houve assinatura do Membro responsável. A autenticação pelo Membro é imprescindível para o atendimento da SAT, já que consta como requisito na Resolução GPGJ nº 2.197/18. Somente após a assinatura do Membro é que a SAT é enviada a este grupo especializado.'],\n",
       "      dtype=object)"
      ]
     },
     "execution_count": 147,
     "metadata": {},
     "output_type": "execute_result"
    }
   ],
   "source": [
    "pd.read_csv('dataset_corujita.csv').iloc[22].values"
   ]
  },
  {
   "cell_type": "code",
   "execution_count": 154,
   "id": "d63df0d9-883f-4a4c-8f81-ff44dd6c24b9",
   "metadata": {},
   "outputs": [
    {
     "name": "stdout",
     "output_type": "stream",
     "text": [
      "User input (original): O que é complementação?\n",
      "\n",
      "Pergunta existente encontrada: No Nova SAT do MPRJ, o que caracteriza a complementaridade?\n",
      "Resposta: A natureza complementar das atividades do GATE está prevista nos artigos 1º e 9º, inciso II, da Resolução GPGJ nº 2.197/18. Significa dizer que o GATE não se substitui aos órgãos de execução; aos demais órgãos internos do MPRJ; aos órgãos técnicos e/ou com poder de polícia ou regulatório do Poder Executivo ou demais órgãos de controle (interno ou externo); ou aos profissionais cuja prestação de serviços técnicos for necessária para que os investigados cumpram seus deveres legais ou obrigações assumidas perante o MPRJ. Sendo assim, o GATE nunca será o primeiro a atuar no caso concreto. Sua análise sempre irá se basear na manifestação técnica do órgão dotado de poder de polícia, investigativo ou regulatório, inclusive órgãos de controle interno e externo; no laudo pericial; ou na manifestação técnica produzida pelo perito oficial do juízo.\n",
      "\n",
      "Pergunta existente encontrada: No contexto do Nova SAT do MPRJ, como a complementaridade é aplicada?\n",
      "Resposta: A natureza complementar das atividades do GATE está prevista nos artigos 1º e 9º, inciso II, da Resolução GPGJ nº 2.197/18. Significa dizer que o GATE não se substitui aos órgãos de execução; aos demais órgãos internos do MPRJ; aos órgãos técnicos e/ou com poder de polícia ou regulatório do Poder Executivo ou demais órgãos de controle (interno ou externo); ou aos profissionais cuja prestação de serviços técnicos for necessária para que os investigados cumpram seus deveres legais ou obrigações assumidas perante o MPRJ. Sendo assim, o GATE nunca será o primeiro a atuar no caso concreto. Sua análise sempre irá se basear na manifestação técnica do órgão dotado de poder de polícia, investigativo ou regulatório, inclusive órgãos de controle interno e externo; no laudo pericial; ou na manifestação técnica produzida pelo perito oficial do juízo.\n",
      "\n",
      "Pergunta existente encontrada: No sistema Nova SAT do MPRJ, como se entende a complementaridade?\n",
      "Resposta: A natureza complementar das atividades do GATE está prevista nos artigos 1º e 9º, inciso II, da Resolução GPGJ nº 2.197/18. Significa dizer que o GATE não se substitui aos órgãos de execução; aos demais órgãos internos do MPRJ; aos órgãos técnicos e/ou com poder de polícia ou regulatório do Poder Executivo ou demais órgãos de controle (interno ou externo); ou aos profissionais cuja prestação de serviços técnicos for necessária para que os investigados cumpram seus deveres legais ou obrigações assumidas perante o MPRJ. Sendo assim, o GATE nunca será o primeiro a atuar no caso concreto. Sua análise sempre irá se basear na manifestação técnica do órgão dotado de poder de polícia, investigativo ou regulatório, inclusive órgãos de controle interno e externo; no laudo pericial; ou na manifestação técnica produzida pelo perito oficial do juízo.\n",
      "\n",
      "Pergunta existente encontrada: O que é complementaridade e como ela se aplica no sistema Nova SAT do MPRJ?\n",
      "Resposta: A natureza complementar das atividades do GATE está prevista nos artigos 1º e 9º, inciso II, da Resolução GPGJ nº 2.197/18. Significa dizer que o GATE não se substitui aos órgãos de execução; aos demais órgãos internos do MPRJ; aos órgãos técnicos e/ou com poder de polícia ou regulatório do Poder Executivo ou demais órgãos de controle (interno ou externo); ou aos profissionais cuja prestação de serviços técnicos for necessária para que os investigados cumpram seus deveres legais ou obrigações assumidas perante o MPRJ. Sendo assim, o GATE nunca será o primeiro a atuar no caso concreto. Sua análise sempre irá se basear na manifestação técnica do órgão dotado de poder de polícia, investigativo ou regulatório, inclusive órgãos de controle interno e externo; no laudo pericial; ou na manifestação técnica produzida pelo perito oficial do juízo.\n",
      "\n"
     ]
    }
   ],
   "source": [
    "# Define the user's query\n",
    "input_user = \"O que é complementação?\"\n",
    "\n",
    "# Retrieve the most relevant documents\n",
    "docs = retrieve_documents(DEEPSEEK_API_KEY, input_user, retriever)\n",
    "\n",
    "# Output the matched questions and their metadata\n",
    "print(f\"User input (original): {input_user}\\n\")\n",
    "for doc in docs:\n",
    "    print(f\"Pergunta existente encontrada: {doc.page_content}\")\n",
    "    print(f\"Resposta: {doc.metadata['Resposta']}\\n\")"
   ]
  },
  {
   "cell_type": "markdown",
   "id": "5cc860d7-7ad6-4f03-af99-334ce5e52c58",
   "metadata": {},
   "source": [
    "# EXTRA: Aumento do dataset de referência"
   ]
  },
  {
   "cell_type": "code",
   "execution_count": 116,
   "id": "5880614c-c1fe-4378-b405-66927818a31b",
   "metadata": {},
   "outputs": [],
   "source": [
    "file_path=\"./dataset_corujita.csv\"\n",
    "df = pd.read_csv(file_path)\n",
    "\n",
    "def generate_expansion_prompt(original_question):\n",
    "    return f\"\"\"\n",
    "    Você é um assistente especializado em reformular perguntas para melhorar a recuperação de informações. \n",
    "    Gere **15 reformulações criativas** da seguinte pergunta, mantendo o mesmo significado e o contexto do sistema Nova SAT do MPRJ. \n",
    "    As reformulações devem:\n",
    "    \n",
    "    - Usar diferentes formas gramaticais (perguntas diretas, indiretas, afirmativas).\n",
    "    - Variar o tom (mais formal, mais objetiva, mais coloquial).\n",
    "    - Explorar sinônimos e expressões alternativas.\n",
    "    - Simular diferentes perfis de usuário (iniciante, avançado, técnico).\n",
    "    - Simular diferentes emoções do usuário (tom de raiva ou reclamação, tom cordial, etc.)\n",
    "\n",
    "    Pergunta original: \"{original_question}\"\n",
    "\n",
    "    Liste as 15 variações separadas por ponto e vírgula (;), sem numeração ou explicações.\n",
    "    \"\"\"\n",
    "\n",
    "def expand_question_with_llm(api_key, original_question):\n",
    "    prompt = generate_expansion_prompt(original_question)\n",
    "    response = call_deepseek_api(api_key, prompt)\n",
    "    \n",
    "    # Assumindo que a LLM retorna as perguntas separadas por \";\"\n",
    "    expanded_questions = response.split(\";\")\n",
    "    return [q.strip() for q in expanded_questions if q.strip()]\n",
    "\n",
    "expanded_data = []\n",
    "\n",
    "for _, row in df.iterrows():\n",
    "    original_question = row[\"Pergunta\"]\n",
    "    response = row[\"Resposta\"]\n",
    "    \n",
    "    # Expandir a pergunta\n",
    "    new_questions = expand_question_with_llm(DEEPSEEK_API_KEY, original_question)\n",
    "    \n",
    "    # Adicionar todas as variações mantendo a resposta original\n",
    "    for new_q in new_questions:\n",
    "        expanded_data.append({\"Pergunta\": new_q, \"Resposta\": response})\n",
    "\n",
    "# Criar um novo DataFrame expandido\n",
    "df_expanded = pd.DataFrame(expanded_data)\n",
    "\n",
    "# Salvar como CSV\n",
    "df_expanded.to_csv(\"dataset_corujita_expansao.csv\", index=False)\n",
    "\n"
   ]
  },
  {
   "cell_type": "code",
   "execution_count": 118,
   "id": "73e85772-d9c5-4d4e-b3dd-6a1367142d01",
   "metadata": {},
   "outputs": [
    {
     "data": {
      "text/html": [
       "<div>\n",
       "<style scoped>\n",
       "    .dataframe tbody tr th:only-of-type {\n",
       "        vertical-align: middle;\n",
       "    }\n",
       "\n",
       "    .dataframe tbody tr th {\n",
       "        vertical-align: top;\n",
       "    }\n",
       "\n",
       "    .dataframe thead th {\n",
       "        text-align: right;\n",
       "    }\n",
       "</style>\n",
       "<table border=\"1\" class=\"dataframe\">\n",
       "  <thead>\n",
       "    <tr style=\"text-align: right;\">\n",
       "      <th></th>\n",
       "      <th>Pergunta</th>\n",
       "      <th>Resposta</th>\n",
       "    </tr>\n",
       "  </thead>\n",
       "  <tbody>\n",
       "    <tr>\n",
       "      <th>0</th>\n",
       "      <td>É necessário continuar utilizando o SEI para s...</td>\n",
       "      <td>Não. Todas as solicitações de análise técnica ...</td>\n",
       "    </tr>\n",
       "    <tr>\n",
       "      <th>1</th>\n",
       "      <td>Preciso ainda usar o SEI para pedir as análise...</td>\n",
       "      <td>Não. Todas as solicitações de análise técnica ...</td>\n",
       "    </tr>\n",
       "    <tr>\n",
       "      <th>2</th>\n",
       "      <td>O SEI ainda é obrigatório para solicitar análi...</td>\n",
       "      <td>Não. Todas as solicitações de análise técnica ...</td>\n",
       "    </tr>\n",
       "    <tr>\n",
       "      <th>3</th>\n",
       "      <td>Ainda é preciso recorrer ao SEI para solicitar...</td>\n",
       "      <td>Não. Todas as solicitações de análise técnica ...</td>\n",
       "    </tr>\n",
       "    <tr>\n",
       "      <th>4</th>\n",
       "      <td>Solicitar análises no GATE ainda exige o uso d...</td>\n",
       "      <td>Não. Todas as solicitações de análise técnica ...</td>\n",
       "    </tr>\n",
       "    <tr>\n",
       "      <th>...</th>\n",
       "      <td>...</td>\n",
       "      <td>...</td>\n",
       "    </tr>\n",
       "    <tr>\n",
       "      <th>385</th>\n",
       "      <td>Como proceder para consultar o andamento da SA...</td>\n",
       "      <td>O andamento da SAT ainda não está automatizado...</td>\n",
       "    </tr>\n",
       "    <tr>\n",
       "      <th>386</th>\n",
       "      <td>Quero saber como posso acompanhar o andamento ...</td>\n",
       "      <td>O andamento da SAT ainda não está automatizado...</td>\n",
       "    </tr>\n",
       "    <tr>\n",
       "      <th>387</th>\n",
       "      <td>Como faço para verificar o progresso da SAT no...</td>\n",
       "      <td>O andamento da SAT ainda não está automatizado...</td>\n",
       "    </tr>\n",
       "    <tr>\n",
       "      <th>388</th>\n",
       "      <td>Existe um método para consultar o status da SA...</td>\n",
       "      <td>O andamento da SAT ainda não está automatizado...</td>\n",
       "    </tr>\n",
       "    <tr>\n",
       "      <th>389</th>\n",
       "      <td>Como posso obter detalhes sobre o andamento da...</td>\n",
       "      <td>O andamento da SAT ainda não está automatizado...</td>\n",
       "    </tr>\n",
       "  </tbody>\n",
       "</table>\n",
       "<p>390 rows × 2 columns</p>\n",
       "</div>"
      ],
      "text/plain": [
       "                                              Pergunta  \\\n",
       "0    É necessário continuar utilizando o SEI para s...   \n",
       "1    Preciso ainda usar o SEI para pedir as análise...   \n",
       "2    O SEI ainda é obrigatório para solicitar análi...   \n",
       "3    Ainda é preciso recorrer ao SEI para solicitar...   \n",
       "4    Solicitar análises no GATE ainda exige o uso d...   \n",
       "..                                                 ...   \n",
       "385  Como proceder para consultar o andamento da SA...   \n",
       "386  Quero saber como posso acompanhar o andamento ...   \n",
       "387  Como faço para verificar o progresso da SAT no...   \n",
       "388  Existe um método para consultar o status da SA...   \n",
       "389  Como posso obter detalhes sobre o andamento da...   \n",
       "\n",
       "                                              Resposta  \n",
       "0    Não. Todas as solicitações de análise técnica ...  \n",
       "1    Não. Todas as solicitações de análise técnica ...  \n",
       "2    Não. Todas as solicitações de análise técnica ...  \n",
       "3    Não. Todas as solicitações de análise técnica ...  \n",
       "4    Não. Todas as solicitações de análise técnica ...  \n",
       "..                                                 ...  \n",
       "385  O andamento da SAT ainda não está automatizado...  \n",
       "386  O andamento da SAT ainda não está automatizado...  \n",
       "387  O andamento da SAT ainda não está automatizado...  \n",
       "388  O andamento da SAT ainda não está automatizado...  \n",
       "389  O andamento da SAT ainda não está automatizado...  \n",
       "\n",
       "[390 rows x 2 columns]"
      ]
     },
     "execution_count": 118,
     "metadata": {},
     "output_type": "execute_result"
    }
   ],
   "source": [
    "df_expanded"
   ]
  },
  {
   "cell_type": "code",
   "execution_count": null,
   "id": "2784c2b1-9433-4e14-8c90-4ce0462e8bc3",
   "metadata": {},
   "outputs": [],
   "source": []
  }
 ],
 "metadata": {
  "kernelspec": {
   "display_name": "Python 3 (ipykernel)",
   "language": "python",
   "name": "python3"
  },
  "language_info": {
   "codemirror_mode": {
    "name": "ipython",
    "version": 3
   },
   "file_extension": ".py",
   "mimetype": "text/x-python",
   "name": "python",
   "nbconvert_exporter": "python",
   "pygments_lexer": "ipython3",
   "version": "3.12.7"
  }
 },
 "nbformat": 4,
 "nbformat_minor": 5
}
